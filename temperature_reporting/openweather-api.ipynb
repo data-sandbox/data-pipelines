{
 "cells": [
  {
   "attachments": {},
   "cell_type": "markdown",
   "metadata": {},
   "source": [
    "# Weather APIs\n",
    "\n",
    "Objective: Experiment with weather APIs to be implemented in the extraction phase of the ETL pipeline."
   ]
  },
  {
   "cell_type": "code",
   "execution_count": 1,
   "metadata": {},
   "outputs": [],
   "source": [
    "import os\n",
    "import requests\n",
    "\n",
    "from dotenv import load_dotenv, find_dotenv\n",
    "_ = load_dotenv(find_dotenv())\n",
    "\n",
    "api_key = os.getenv('OPENWEATHER_KEY')"
   ]
  },
  {
   "cell_type": "code",
   "execution_count": 2,
   "metadata": {},
   "outputs": [
    {
     "data": {
      "text/plain": [
       "{'coord': {'lon': -104.9364, 'lat': 39.8281},\n",
       " 'weather': [{'id': 803,\n",
       "   'main': 'Clouds',\n",
       "   'description': 'broken clouds',\n",
       "   'icon': '04n'}],\n",
       " 'base': 'stations',\n",
       " 'main': {'temp': 61.54,\n",
       "  'feels_like': 60.49,\n",
       "  'temp_min': 55.81,\n",
       "  'temp_max': 64.6,\n",
       "  'pressure': 1016,\n",
       "  'humidity': 66},\n",
       " 'visibility': 10000,\n",
       " 'wind': {'speed': 5.75, 'deg': 30},\n",
       " 'clouds': {'all': 75},\n",
       " 'dt': 1684984022,\n",
       " 'sys': {'type': 2,\n",
       "  'id': 2004616,\n",
       "  'country': 'US',\n",
       "  'sunrise': 1684928286,\n",
       "  'sunset': 1684980922},\n",
       " 'timezone': -21600,\n",
       " 'id': 5419431,\n",
       " 'name': 'Derby',\n",
       " 'cod': 200}"
      ]
     },
     "execution_count": 2,
     "metadata": {},
     "output_type": "execute_result"
    }
   ],
   "source": [
    "# Weather\n",
    "params = {'lat': 39.828118,\n",
    "          'lon': -104.936449,\n",
    "          'appid': api_key,\n",
    "          'units': 'imperial'}\n",
    "response = requests.get(\n",
    "    'https://api.openweathermap.org/data/2.5/weather?', params=params)\n",
    "response.json()"
   ]
  },
  {
   "attachments": {},
   "cell_type": "markdown",
   "metadata": {},
   "source": [
    "Let's specifically extract the current temperature."
   ]
  },
  {
   "cell_type": "code",
   "execution_count": 6,
   "metadata": {},
   "outputs": [
    {
     "data": {
      "text/plain": [
       "61.54"
      ]
     },
     "execution_count": 6,
     "metadata": {},
     "output_type": "execute_result"
    }
   ],
   "source": [
    "response.json()['main']['temp']"
   ]
  },
  {
   "cell_type": "code",
   "execution_count": 14,
   "metadata": {},
   "outputs": [
    {
     "data": {
      "text/plain": [
       "{'coord': {'lon': -104.9364, 'lat': 39.8281},\n",
       " 'list': [{'main': {'aqi': 2},\n",
       "   'components': {'co': 423.91,\n",
       "    'no': 0.03,\n",
       "    'no2': 41.81,\n",
       "    'o3': 28.25,\n",
       "    'so2': 3.28,\n",
       "    'pm2_5': 7.85,\n",
       "    'pm10': 9.54,\n",
       "    'nh3': 1.65},\n",
       "   'dt': 1684987963}]}"
      ]
     },
     "execution_count": 14,
     "metadata": {},
     "output_type": "execute_result"
    }
   ],
   "source": [
    "# Air Quality\n",
    "# Lat/lon to match Adams Birch Street (ADB) Station in Denver\n",
    "# https://www.colorado.gov/airquality/report.aspx\n",
    "params = {'lat': 39.828118,\n",
    "          'lon': -104.936449,\n",
    "          'appid': api_key}\n",
    "response = requests.get(\n",
    "    'http://api.openweathermap.org/data/2.5/air_pollution?', params=params)\n",
    "response.json()"
   ]
  },
  {
   "attachments": {},
   "cell_type": "markdown",
   "metadata": {},
   "source": [
    "Curiously results for `pm2_5` and `pm10` are quite different from the numbers reported by Colorado Air Quality."
   ]
  },
  {
   "attachments": {},
   "cell_type": "markdown",
   "metadata": {},
   "source": []
  }
 ],
 "metadata": {
  "kernelspec": {
   "display_name": ".venv_pipelines",
   "language": "python",
   "name": "python3"
  },
  "language_info": {
   "codemirror_mode": {
    "name": "ipython",
    "version": 3
   },
   "file_extension": ".py",
   "mimetype": "text/x-python",
   "name": "python",
   "nbconvert_exporter": "python",
   "pygments_lexer": "ipython3",
   "version": "3.11.3"
  },
  "orig_nbformat": 4
 },
 "nbformat": 4,
 "nbformat_minor": 2
}
